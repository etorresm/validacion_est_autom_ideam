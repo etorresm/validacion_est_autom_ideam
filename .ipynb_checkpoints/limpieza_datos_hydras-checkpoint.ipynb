{
 "cells": [
  {
   "cell_type": "markdown",
   "metadata": {},
   "source": [
    "# Poner en forma los datos\n",
    "Los datos se descargaron usando los códigos originales"
   ]
  },
  {
   "cell_type": "code",
   "execution_count": 3,
   "metadata": {},
   "outputs": [
    {
     "name": "stdout",
     "output_type": "stream",
     "text": [
      "--Return--\n",
      "> <ipython-input-3-4c92f4d97b6c>(10)<module>()->None\n",
      "-> pdb.set_trace()\n",
      "(Pdb) c\n"
     ]
    }
   ],
   "source": [
    "import pandas as pd\n",
    "import numpy as np\n",
    "import os\n",
    "import pdb\n",
    "\n",
    "\n",
    "#Directorio\n",
    "os.chdir('/media/edwin/6F71AD994355D30E/Edwin/Maestría Meteorologia/Tesis/congreso/validacion_est_autom_ideam/archivos_hydras')\n",
    "\n",
    "lista_estaciones = pd.DataFrame(list(os.listdir()))\n",
    "\n",
    "lista_estaciones.columns = ['a']   #nombres\n",
    "lista_estaciones.columns.values[0] = 'a'\n",
    "\n",
    "lista_estaciones['cod'], lista_estaciones['varr'] = lista_estaciones.a.str.split('_').str\n",
    "\n",
    "lista_estaciones['variable'], lista_estaciones['csv']= lista_estaciones.varr.str.split('.').str\n",
    "\n",
    "lista_estaciones_2 = lista_estaciones.iloc[:,[1,3]]\n"
   ]
  }
 ],
 "metadata": {
  "kernelspec": {
   "display_name": "Python 3",
   "language": "python",
   "name": "python3"
  },
  "language_info": {
   "codemirror_mode": {
    "name": "ipython",
    "version": 3
   },
   "file_extension": ".py",
   "mimetype": "text/x-python",
   "name": "python",
   "nbconvert_exporter": "python",
   "pygments_lexer": "ipython3",
   "version": "3.7.3"
  }
 },
 "nbformat": 4,
 "nbformat_minor": 2
}
