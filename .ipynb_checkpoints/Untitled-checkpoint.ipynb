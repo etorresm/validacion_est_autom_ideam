{
 "cells": [
  {
   "cell_type": "markdown",
   "metadata": {},
   "source": [
    "# Control de calidad de los datos\n",
    "Esta validación fue usada para hacer la comparación de los datos del modelo WRF con los datos de las estaciones meteorológicas automáticas HYDRAS"
   ]
  },
  {
   "cell_type": "code",
   "execution_count": null,
   "metadata": {},
   "outputs": [],
   "source": [
    "# Se seleccionó los valores horarios para poderlos comparar con los datos del wrf\n",
    "# Se va a crear una base de datos con precipitación, humedad relativa, brillo solar, temperatura, velocidad del viento y dirección del viento\n",
    "\n",
    "\n",
    "import pandas as pd\n",
    "import numpy as np\n",
    "import os\n",
    "import matplotlib.pyplot as plt\n",
    "from matplotlib import style\n",
    "from pvlib.location import Location\n",
    "import datetime\n",
    "\n",
    "def lista_nombres(base):\n",
    "        base_r = pd.DataFrame(list(base))\n",
    "        return(base_r)\n",
    "        \n",
    "def orden(base):\n",
    "    return(base.sort_values(by='date', ascending=True))\n",
    "\n",
    "vari = ['cod', 'date', 'precip-10min', 'hum_2m', 'Rad-gl', 'tmp_2m', 'tmp_2m_min', 'tmp_2m_max', 'Vel-vie-10min', 'Dir-vie-10min']\n"
   ]
  }
 ],
 "metadata": {
  "kernelspec": {
   "display_name": "Python 3",
   "language": "python",
   "name": "python3"
  },
  "language_info": {
   "codemirror_mode": {
    "name": "ipython",
    "version": 3
   },
   "file_extension": ".py",
   "mimetype": "text/x-python",
   "name": "python",
   "nbconvert_exporter": "python",
   "pygments_lexer": "ipython3",
   "version": "3.7.3"
  }
 },
 "nbformat": 4,
 "nbformat_minor": 2
}
