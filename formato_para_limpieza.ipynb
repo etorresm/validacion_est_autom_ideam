{
 "cells": [
  {
   "cell_type": "code",
   "execution_count": null,
   "metadata": {},
   "outputs": [],
   "source": [
    "import pandas as pd\n",
    "import numpy as np\n",
    "import os\n",
    "import pdb"
   ]
  },
  {
   "cell_type": "markdown",
   "metadata": {},
   "source": [
    "Directorio de descarga de los datos de HYDRAS"
   ]
  },
  {
   "cell_type": "code",
   "execution_count": null,
   "metadata": {},
   "outputs": [],
   "source": [
    "os.chdir('/media/edwin/6F71AD994355D30E/Edwin/Maestría Meteorologia/Tesis/datos_ideam/descarga_hydras2')"
   ]
  },
  {
   "cell_type": "markdown",
   "metadata": {},
   "source": [
    "Se genera una base de datos ordenada a partír de los datos descargados"
   ]
  },
  {
   "cell_type": "code",
   "execution_count": 1,
   "metadata": {},
   "outputs": [
    {
     "ename": "NameError",
     "evalue": "name 'pd' is not defined",
     "output_type": "error",
     "traceback": [
      "\u001b[0;31m---------------------------------------------------------------------------\u001b[0m",
      "\u001b[0;31mNameError\u001b[0m                                 Traceback (most recent call last)",
      "\u001b[0;32m<ipython-input-1-81fb646092bd>\u001b[0m in \u001b[0;36m<module>\u001b[0;34m\u001b[0m\n\u001b[0;32m----> 1\u001b[0;31m \u001b[0mlista_estaciones\u001b[0m \u001b[0;34m=\u001b[0m \u001b[0mpd\u001b[0m\u001b[0;34m.\u001b[0m\u001b[0mDataFrame\u001b[0m\u001b[0;34m(\u001b[0m\u001b[0mlist\u001b[0m\u001b[0;34m(\u001b[0m\u001b[0mos\u001b[0m\u001b[0;34m.\u001b[0m\u001b[0mlistdir\u001b[0m\u001b[0;34m(\u001b[0m\u001b[0;34m)\u001b[0m\u001b[0;34m)\u001b[0m\u001b[0;34m)\u001b[0m\u001b[0;34m\u001b[0m\u001b[0;34m\u001b[0m\u001b[0m\n\u001b[0m\u001b[1;32m      2\u001b[0m \u001b[0;34m\u001b[0m\u001b[0m\n\u001b[1;32m      3\u001b[0m \u001b[0mlista_estaciones\u001b[0m\u001b[0;34m.\u001b[0m\u001b[0mcolumns\u001b[0m \u001b[0;34m=\u001b[0m \u001b[0;34m[\u001b[0m\u001b[0;34m'a'\u001b[0m\u001b[0;34m]\u001b[0m   \u001b[0;31m#nombres\u001b[0m\u001b[0;34m\u001b[0m\u001b[0;34m\u001b[0m\u001b[0m\n\u001b[1;32m      4\u001b[0m \u001b[0mlista_estaciones\u001b[0m\u001b[0;34m.\u001b[0m\u001b[0mcolumns\u001b[0m\u001b[0;34m.\u001b[0m\u001b[0mvalues\u001b[0m\u001b[0;34m[\u001b[0m\u001b[0;36m0\u001b[0m\u001b[0;34m]\u001b[0m \u001b[0;34m=\u001b[0m \u001b[0;34m'a'\u001b[0m\u001b[0;34m\u001b[0m\u001b[0;34m\u001b[0m\u001b[0m\n\u001b[1;32m      5\u001b[0m \u001b[0;34m\u001b[0m\u001b[0m\n",
      "\u001b[0;31mNameError\u001b[0m: name 'pd' is not defined"
     ]
    }
   ],
   "source": [
    "\n",
    "lista_estaciones = pd.DataFrame(list(os.listdir()))\n",
    "\n",
    "lista_estaciones.columns = ['a']   #nombres\n",
    "lista_estaciones.columns.values[0] = 'a'\n",
    "\n",
    "lista_estaciones['cod'], lista_estaciones['varr'] = lista_estaciones.a.str.split('_').str\n",
    "\n",
    "lista_estaciones['variable'], lista_estaciones['csv']= lista_estaciones.varr.str.split('.').str\n",
    "\n",
    "lista_estaciones_2 = lista_estaciones.iloc[:,[1,3]]"
   ]
  },
  {
   "cell_type": "markdown",
   "metadata": {},
   "source": [
    "Se carga la tabla de los códigos y las variables"
   ]
  },
  {
   "cell_type": "code",
   "execution_count": null,
   "metadata": {},
   "outputs": [],
   "source": [
    "\n",
    "# Cargar la base de datos de las variables\n",
    "vari_hydras = pd.read_csv('/media/edwin/6F71AD994355D30E/Edwin/Maestría Meteorologia/Tesis/datos_ideam/base_nombres.csv')"
   ]
  },
  {
   "cell_type": "markdown",
   "metadata": {},
   "source": [
    "Función creada para poner todos los archivos en forma"
   ]
  },
  {
   "cell_type": "code",
   "execution_count": null,
   "metadata": {},
   "outputs": [],
   "source": [
    "\n",
    "# Función para arreglar cada csv y ponerlo en forma para ser usado\n",
    "def ajuste_base(base):\n",
    "    base.columns = ['cod', 'dat1', 'dat2', 'value', 'cod_var']\n",
    "    base['date'] = base.dat1.astype(str) + '-' + base.dat2.astype(str)\n",
    "    base.date = pd.to_datetime(base.date, format ='%Y%m%d-%H:%M:%S', errors='coerce')\n",
    "    nombre_1 = vari_hydras[vari_hydras.variable.isin(base.cod_var)].titulo # Busca cual es el nombre de la variable\n",
    "    base.columns.values[3] = nombre_1.iloc[0]\n",
    "    base2 = base.iloc[:,[0,5,3]]\n",
    "    base2.iloc[:,2] = pd.to_numeric(base2.iloc[:,2], errors = 'coerce')\n",
    "    return(base2)\n",
    "\n",
    "lista_estaciones_3 = lista_estaciones_2.iloc[:,:].astype(str)"
   ]
  },
  {
   "cell_type": "markdown",
   "metadata": {},
   "source": [
    "Se hizo un loop para poder poner todos los archivos en el formato deseado"
   ]
  },
  {
   "cell_type": "code",
   "execution_count": null,
   "metadata": {},
   "outputs": [],
   "source": [
    "for i in list(lista_estaciones_3.cod.unique()):\n",
    "    for k in list(lista_estaciones_3.variable.unique()):\n",
    "        acod = (i + '_' + k +'.csv')\n",
    "        acod2 = lista_estaciones[lista_estaciones.a == acod]\n",
    "        if len(lista_estaciones[lista_estaciones.a == acod]) > 0: # El condicional para la selección del archivo\n",
    "            os.chdir('/media/edwin/6F71AD994355D30E/Edwin/Maestría Meteorologia/Tesis/datos_ideam/descarga_hydras2')\n",
    "            pdb.set_trace()\n",
    "            base_a = pd.read_csv(acod)\n",
    "            base_b = ajuste_base(base_a)\n",
    "            os.chdir('/media/edwin/6F71AD994355D30E/Edwin/Maestría Meteorologia/Tesis/datos_ideam/datos_variables')\n",
    "            base_b.to_csv(i + '_' + base_b.columns[2] +'.csv')"
   ]
  }
 ],
 "metadata": {
  "kernelspec": {
   "display_name": "Python 3",
   "language": "python",
   "name": "python3"
  },
  "language_info": {
   "codemirror_mode": {
    "name": "ipython",
    "version": 3
   },
   "file_extension": ".py",
   "mimetype": "text/x-python",
   "name": "python",
   "nbconvert_exporter": "python",
   "pygments_lexer": "ipython3",
   "version": "3.7.3"
  }
 },
 "nbformat": 4,
 "nbformat_minor": 2
}
